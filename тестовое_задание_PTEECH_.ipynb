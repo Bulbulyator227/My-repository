{
  "nbformat": 4,
  "nbformat_minor": 0,
  "metadata": {
    "colab": {
      "provenance": []
    },
    "kernelspec": {
      "name": "python3",
      "display_name": "Python 3"
    },
    "language_info": {
      "name": "python"
    }
  },
  "cells": [
    {
      "cell_type": "markdown",
      "source": [
        "# **Тестовое задание**"
      ],
      "metadata": {
        "id": "gehhENxVsWTO"
      }
    },
    {
      "cell_type": "markdown",
      "source": [
        "# **1 Задача по написанию тест-кейсов**"
      ],
      "metadata": {
        "id": "tmpmHZ9ptlC4"
      }
    },
    {
      "cell_type": "markdown",
      "source": [
        "Задача по написанию тест-кейсов:\n",
        "Условие: В веб-приложении есть выпадающий список с выбором стран и кодом телефона. Необходимо проверить корректность работы списка.\n",
        "Ожидаемый результат: Описание позитивных и негативных тест-кейсов.\n"
      ],
      "metadata": {
        "id": "5Z2XgkZYuhQP"
      }
    },
    {
      "cell_type": "markdown",
      "source": [
        "[https://docs.google.com/spreadsheets/d/1w3ZW8Z_pBKbCeAoWXp54J-R5CAulTHJF/edit?usp=drive_link&ouid=110638338999077626059&rtpof=true&sd=true]"
      ],
      "metadata": {
        "id": "sngRozGoyyO7"
      }
    },
    {
      "cell_type": "markdown",
      "source": [
        "# **2 Задача Playwright**"
      ],
      "metadata": {
        "id": "ROwTAwAetvWL"
      }
    },
    {
      "cell_type": "markdown",
      "source": [
        "Условие: Написать тест, который открывает веб-страницу https://playwright.dev/ и проверяет что заголовок страницы соответствует ожидаемому значению. Тест необходимо запустить минимум на 2 разных браузерах.\n",
        "Ожидаемый результат: Тест успешно проходящий проверку заголовка.\n"
      ],
      "metadata": {
        "id": "oVL62Y7Btu-h"
      }
    },
    {
      "cell_type": "code",
      "execution_count": 8,
      "metadata": {
        "colab": {
          "base_uri": "https://localhost:8080/"
        },
        "id": "yCOb5sRMdmgx",
        "outputId": "1c7f4359-b6f2-44f1-c5c5-0407ead789a0"
      },
      "outputs": [
        {
          "output_type": "stream",
          "name": "stdout",
          "text": [
            "Requirement already satisfied: pytest in /usr/local/lib/python3.12/dist-packages (8.4.2)\n",
            "Requirement already satisfied: playwright in /usr/local/lib/python3.12/dist-packages (1.55.0)\n",
            "Requirement already satisfied: iniconfig>=1 in /usr/local/lib/python3.12/dist-packages (from pytest) (2.1.0)\n",
            "Requirement already satisfied: packaging>=20 in /usr/local/lib/python3.12/dist-packages (from pytest) (25.0)\n",
            "Requirement already satisfied: pluggy<2,>=1.5 in /usr/local/lib/python3.12/dist-packages (from pytest) (1.6.0)\n",
            "Requirement already satisfied: pygments>=2.7.2 in /usr/local/lib/python3.12/dist-packages (from pytest) (2.19.2)\n",
            "Requirement already satisfied: pyee<14,>=13 in /usr/local/lib/python3.12/dist-packages (from playwright) (13.0.0)\n",
            "Requirement already satisfied: greenlet<4.0.0,>=3.1.1 in /usr/local/lib/python3.12/dist-packages (from playwright) (3.2.4)\n",
            "Requirement already satisfied: typing-extensions in /usr/local/lib/python3.12/dist-packages (from pyee<14,>=13->playwright) (4.15.0)\n"
          ]
        }
      ],
      "source": [
        "#импорт нужных библиотек\n",
        "!pip install pytest playwright\n",
        "from playwright.sync_api import sync_playwright\n",
        "import pytest"
      ]
    },
    {
      "cell_type": "code",
      "source": [
        "#Фикстура\n",
        "@pytest.fixture\n",
        "def launch_browser():\n",
        "    def _launch(browser_name):\n",
        "        playwright = sync_playwright().start() # Запуск движка Playwright\n",
        "        #Выбор браузера\n",
        "        if browser_name == \"chromium\":\n",
        "            browser = playwright.chromium.launch(headless=True)\n",
        "        elif browser_name == \"firefox\":\n",
        "            browser = playwright.firefox.launch(headless=True)\n",
        "        else:\n",
        "            raise ValueError(f\"Неизвестный браузер: {browser_name}\")\n",
        "        browser._playwright = playwright\n",
        "        return browser\n",
        "    return _launch"
      ],
      "metadata": {
        "id": "OK7wblWcoOuH"
      },
      "execution_count": 9,
      "outputs": []
    },
    {
      "cell_type": "code",
      "source": [
        "@pytest.mark.parametrize(\"browser_type\", [\"chromium\", \"firefox\"])\n",
        "def test_page_title(browser_type, launch_browser):\n",
        "    browser = launch_browser(browser_type)                #запуск браузера\n",
        "    page = browser.new_page()                             #создание новой вкладки в браузере.\n",
        "    page.goto(\"https://playwright.dev\")                   #Переход на указанную страницу\n",
        "\n",
        "    # Проверка заголовка\n",
        "    expected_title = \"Fast and reliable end-to-end testing for modern web apps | Playwright\"  # Задаёт ожидаемое значение заголовка страницы (то, что должно быть в <title> на странице).\n",
        "    actual_title = page.title()                                                               # Получает фактический заголовок открытой страницы.\n",
        "\n",
        "    #Сравнение фактического заголовка с ожидаемым\n",
        "    assert actual_title == expected_title, \\\n",
        "        f\"Ожидался заголовок: '{expected_title}', но получили: '{actual_title}'\"\n",
        "\n",
        "#Если они не совпадают — тест падает\n",
        "#Если совпадают — тест проходит\n",
        "\n",
        "    browser.close() #закртыие браузера"
      ],
      "metadata": {
        "id": "7DQhlFzJfcPI"
      },
      "execution_count": 10,
      "outputs": []
    },
    {
      "cell_type": "markdown",
      "source": [
        "# **3 Задача по теории вероятности**"
      ],
      "metadata": {
        "id": "1bUmW98htzhk"
      }
    },
    {
      "cell_type": "markdown",
      "source": [
        "Условие: В коробке 7 красных, 5 зеленых и 8 синих шаров. Наугад выбирается один шар. Какова вероятность того, что выбранный шар окажется либо красным, либо зеленым?\n",
        "Ожидаемый результат: Описание решения и ответ\n"
      ],
      "metadata": {
        "id": "qDaSaRr3t43-"
      }
    },
    {
      "cell_type": "code",
      "execution_count": 11,
      "metadata": {
        "colab": {
          "base_uri": "https://localhost:8080/"
        },
        "id": "RG3r2Q_1Fs-Z",
        "outputId": "079f60be-eaed-440c-d6d0-7e644a068f3e"
      },
      "outputs": [
        {
          "output_type": "stream",
          "name": "stdout",
          "text": [
            "Вероятность вытянуть красный или еленый шарик = 60%\n"
          ]
        }
      ],
      "source": [
        "Red = 7\n",
        "Green = 5\n",
        "Blue = 8\n",
        "\n",
        "sum_of_balls = Red + Green + Blue\n",
        "\n",
        "\n",
        "need_balls = Red + Green\n",
        "Probability = int(need_balls / sum_of_balls * 100)\n",
        "\n",
        "print('Вероятность вытянуть красный или еленый шарик = ', Probability, '%', sep= '')"
      ]
    }
  ]
}